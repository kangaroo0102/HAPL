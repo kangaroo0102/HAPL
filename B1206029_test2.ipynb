{
  "nbformat": 4,
  "nbformat_minor": 0,
  "metadata": {
    "colab": {
      "provenance": []
    },
    "kernelspec": {
      "name": "python3",
      "display_name": "Python 3"
    },
    "language_info": {
      "name": "python"
    }
  },
  "cells": [
    {
      "cell_type": "code",
      "execution_count": null,
      "metadata": {
        "colab": {
          "base_uri": "https://localhost:8080/",
          "height": 106
        },
        "id": "M4_LG8tvDdMM",
        "outputId": "9cd01dd4-20f2-4f97-e50d-5ff0edb1c59b"
      },
      "outputs": [
        {
          "output_type": "error",
          "ename": "SyntaxError",
          "evalue": "invalid decimal literal (<ipython-input-1-e5104f38888b>, line 3)",
          "traceback": [
            "\u001b[0;36m  File \u001b[0;32m\"<ipython-input-1-e5104f38888b>\"\u001b[0;36m, line \u001b[0;32m3\u001b[0m\n\u001b[0;31m    print=(2x+y)(100-y)\u001b[0m\n\u001b[0m           ^\u001b[0m\n\u001b[0;31mSyntaxError\u001b[0m\u001b[0;31m:\u001b[0m invalid decimal literal\n"
          ]
        }
      ],
      "source": [
        "x=2\n",
        "y=1\n",
        "print=(2x+y)(100-y)"
      ]
    },
    {
      "cell_type": "code",
      "source": [
        "x=2\n",
        "y=1\n",
        "a=(2*x+y)\n",
        "b=(100-y)\n",
        "z=(a*b)\n",
        "print(\"Ans. is = \", z)\n"
      ],
      "metadata": {
        "colab": {
          "base_uri": "https://localhost:8080/"
        },
        "id": "8UZOHfdRD6YZ",
        "outputId": "45e5e230-e0bf-4717-f701-c4a4bc9365e6"
      },
      "execution_count": null,
      "outputs": [
        {
          "output_type": "stream",
          "name": "stdout",
          "text": [
            "Ans. is =  495\n"
          ]
        }
      ]
    },
    {
      "cell_type": "code",
      "source": [
        "y=4\n",
        "a=(2*y+1)\n",
        "z=(100/a)\n",
        "print(\"Ans. is = \", z)"
      ],
      "metadata": {
        "colab": {
          "base_uri": "https://localhost:8080/"
        },
        "id": "sGPfzXJOEiYq",
        "outputId": "bf59445f-b0bd-4b30-830a-f156e0dec6be"
      },
      "execution_count": null,
      "outputs": [
        {
          "output_type": "stream",
          "name": "stdout",
          "text": [
            "Ans. is =  11.11111111111111\n"
          ]
        }
      ]
    }
  ]
}