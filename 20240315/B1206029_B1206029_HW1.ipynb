{
  "nbformat": 4,
  "nbformat_minor": 0,
  "metadata": {
    "colab": {
      "provenance": []
    },
    "kernelspec": {
      "name": "python3",
      "display_name": "Python 3"
    },
    "language_info": {
      "name": "python"
    }
  },
  "cells": [
    {
      "cell_type": "code",
      "source": [
        "print(\"I'm a student\")"
      ],
      "metadata": {
        "colab": {
          "base_uri": "https://localhost:8080/"
        },
        "id": "2241qpbPWgA6",
        "outputId": "68e55402-cad6-4a20-9c7f-260db9233cc2"
      },
      "execution_count": 18,
      "outputs": [
        {
          "output_type": "stream",
          "name": "stdout",
          "text": [
            "I'm a student\n"
          ]
        }
      ]
    },
    {
      "cell_type": "code",
      "source": [
        "print (\"請輸入A點(x1,y1)和B(x2,y2)點的座標，我會幫你算出兩點距離\")\n",
        "a = float(input(\"x1= \"))\n",
        "b = float(input(\"y1= \"))\n",
        "c = float(input(\"x2= \"))\n",
        "d = float(input(\"y2= \"))\n",
        "e = ((a) - (c))**2\n",
        "f = ((b) - (d))**2\n",
        "g = ((e) + (f))**0.5\n",
        "print(\"距離=\",g)\n"
      ],
      "metadata": {
        "colab": {
          "base_uri": "https://localhost:8080/"
        },
        "id": "K0IL6GpXQpBu",
        "outputId": "fe451e5f-1573-43a5-c610-4a675c15c52c"
      },
      "execution_count": 17,
      "outputs": [
        {
          "output_type": "stream",
          "name": "stdout",
          "text": [
            "請輸入A點(x1,y1)和B(x2,y2)點的座標，我會幫你算出兩點距離\n",
            "x1= 2\n",
            "y1= 3\n",
            "x2= 6\n",
            "y2= 4\n",
            "距離= 4.123105625617661\n"
          ]
        }
      ]
    },
    {
      "cell_type": "code",
      "source": [
        "print (\"請輸入身高(公尺)和體重(公斤)，我會幫你算出bmi\")\n",
        "a = float(input(\"身高= \"))\n",
        "b = float(input(\"體重= \"))\n",
        "c = (a)**2\n",
        "b/=c\n",
        "print (\"bmi= \",b)"
      ],
      "metadata": {
        "colab": {
          "base_uri": "https://localhost:8080/"
        },
        "id": "ww3gnArNUm0w",
        "outputId": "959ccc6e-43be-45fe-91a4-6300846f3242"
      },
      "execution_count": 19,
      "outputs": [
        {
          "output_type": "stream",
          "name": "stdout",
          "text": [
            "請輸入身高(公尺)和體重(公斤)，我會幫你算出bmi\n",
            "身高= 1.6\n",
            "體重= 50\n",
            "bmi=  19.531249999999996\n"
          ]
        }
      ]
    }
  ]
}