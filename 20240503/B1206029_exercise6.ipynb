{
  "nbformat": 4,
  "nbformat_minor": 0,
  "metadata": {
    "colab": {
      "provenance": []
    },
    "kernelspec": {
      "name": "python3",
      "display_name": "Python 3"
    },
    "language_info": {
      "name": "python"
    }
  },
  "cells": [
    {
      "cell_type": "code",
      "source": [
        "def tree(a):\n",
        "  for x in range(a*2):\n",
        "    if x%2==1:\n",
        "      Q = int(a-x/2)\n",
        "      for y in range(Q):\n",
        "        print(' ',end='')\n",
        "      for z in range(x):\n",
        "        print('*',end='')\n",
        "      print()\n",
        "  for b in range(5):\n",
        "    print(' '*(a-2)+'***')\n",
        "b = int(input('你要幾層樹'))\n",
        "tree(b)"
      ],
      "metadata": {
        "colab": {
          "base_uri": "https://localhost:8080/"
        },
        "id": "BJ5xDCZ9EJc2",
        "outputId": "aa4de017-bb0c-4151-aaad-6b465ccf3488"
      },
      "execution_count": null,
      "outputs": [
        {
          "output_type": "stream",
          "name": "stdout",
          "text": [
            "你要幾層樹20\n",
            "                   *\n",
            "                  ***\n",
            "                 *****\n",
            "                *******\n",
            "               *********\n",
            "              ***********\n",
            "             *************\n",
            "            ***************\n",
            "           *****************\n",
            "          *******************\n",
            "         *********************\n",
            "        ***********************\n",
            "       *************************\n",
            "      ***************************\n",
            "     *****************************\n",
            "    *******************************\n",
            "   *********************************\n",
            "  ***********************************\n",
            " *************************************\n",
            "***************************************\n",
            "                  ***\n",
            "                  ***\n",
            "                  ***\n",
            "                  ***\n",
            "                  ***\n"
          ]
        }
      ]
    },
    {
      "cell_type": "code",
      "source": [
        "try:\n",
        "  a = float(input('身高幾公分'))\n",
        "  b = float(input('體重幾公斤'))\n",
        "  c = a*0.01\n",
        "  d = c**2\n",
        "  e = b/d\n",
        "  def num(b,d):\n",
        "    e = b/d\n",
        "    return e\n",
        "  print('BMI:',e)\n",
        "  if e<18.5:\n",
        "    print('體位：過輕')\n",
        "  elif 18.5<e<24:\n",
        "    print('體位：適中')\n",
        "  elif 24<e<27:\n",
        "    print('體位：過重')\n",
        "  else:\n",
        "    print('體位：肥胖')\n",
        "except:\n",
        "  pass\n",
        "  print(\"輸入錯誤\")"
      ],
      "metadata": {
        "id": "ZDfawUxLb4E3",
        "outputId": "d77e91ed-2d9e-49cf-9d8f-f05fb5a9a1a4",
        "colab": {
          "base_uri": "https://localhost:8080/"
        }
      },
      "execution_count": 1,
      "outputs": [
        {
          "output_type": "stream",
          "name": "stdout",
          "text": [
            "身高幾公分u\n",
            "輸入錯誤\n"
          ]
        }
      ]
    },
    {
      "cell_type": "code",
      "source": [
        "try:\n",
        "  a = float(input('身高幾公分'))\n",
        "  b = float(input('體重幾公斤'))\n",
        "  c = a*0.01\n",
        "  d = c**2\n",
        "  e = b/d\n",
        "  def num(b,d):\n",
        "    e = b/d\n",
        "    return e\n",
        "  print('BMI:',e)\n",
        "  if e<18.5:\n",
        "    print('體位：過輕')\n",
        "  elif 18.5<e<24:\n",
        "    print('體位：適中')\n",
        "  elif 24<e<27:\n",
        "    print('體位：過重')\n",
        "  else:\n",
        "    print('體位：肥胖')\n",
        "except:\n",
        "  pass\n",
        "  print(\"輸入錯誤\")"
      ],
      "metadata": {
        "colab": {
          "base_uri": "https://localhost:8080/"
        },
        "id": "2UMHlwysGDQW",
        "outputId": "4b9dd9b0-7adf-41c0-cdad-9591218c00b5"
      },
      "execution_count": null,
      "outputs": [
        {
          "output_type": "stream",
          "name": "stdout",
          "text": [
            "身高幾公分160\n",
            "體重幾公斤50\n",
            "BMI: 19.531249999999996\n",
            "體位：適中\n"
          ]
        }
      ]
    }
  ]
}