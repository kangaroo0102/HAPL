{
  "nbformat": 4,
  "nbformat_minor": 0,
  "metadata": {
    "colab": {
      "provenance": []
    },
    "kernelspec": {
      "name": "python3",
      "display_name": "Python 3"
    },
    "language_info": {
      "name": "python"
    }
  },
  "cells": [
    {
      "cell_type": "code",
      "execution_count": null,
      "metadata": {
        "colab": {
          "base_uri": "https://localhost:8080/"
        },
        "id": "R-WVhJO5DfsI",
        "outputId": "f89242bf-1b59-4e54-bdf9-bf98be3dc7c8"
      },
      "outputs": [
        {
          "output_type": "stream",
          "name": "stdout",
          "text": [
            "輸入年分2024\n",
            "是閏年\n"
          ]
        }
      ],
      "source": [
        "a = int(input('輸入年分'))\n",
        "if a<1582:\n",
        "  if a%4 == 0:\n",
        "    print('是閏年')\n",
        "  else:\n",
        "    print('是平年')\n",
        "else:\n",
        "  if a%4 == 0:\n",
        "    if a%100 == 0:\n",
        "      if a%400 == 0:\n",
        "        print('是閏年')\n",
        "      else:\n",
        "        print('是平年')\n",
        "    else:\n",
        "      print('是閏年')\n",
        "  else:\n",
        "    print('是平年')\n",
        "\n",
        "\n",
        "\n"
      ]
    }
  ]
}