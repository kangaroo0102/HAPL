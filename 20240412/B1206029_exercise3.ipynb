{
  "nbformat": 4,
  "nbformat_minor": 0,
  "metadata": {
    "colab": {
      "provenance": []
    },
    "kernelspec": {
      "name": "python3",
      "display_name": "Python 3"
    },
    "language_info": {
      "name": "python"
    }
  },
  "cells": [
    {
      "cell_type": "code",
      "execution_count": 10,
      "metadata": {
        "colab": {
          "base_uri": "https://localhost:8080/"
        },
        "id": "UiFOIGLFzYew",
        "outputId": "3b840a38-cfb1-45a8-a0ae-007a610d2cbf"
      },
      "outputs": [
        {
          "output_type": "stream",
          "name": "stdout",
          "text": [
            "身高幾公分160\n",
            "體重幾公斤50\n",
            "BMI: 19.531249999999996\n",
            "體位：適中\n"
          ]
        }
      ],
      "source": [
        "a = float(input('身高幾公分'))\n",
        "b = float(input('體重幾公斤'))\n",
        "c = a*0.01\n",
        "d = c**2\n",
        "e = b/d\n",
        "print('BMI:',e)\n",
        "if e<18.5:\n",
        "  print('體位：過輕')\n",
        "elif 18.5<e<24:\n",
        "  print('體位：適中')\n",
        "elif 24<e<27:\n",
        "  print('體位：過重')\n",
        "else:\n",
        "  print('體位：肥胖')"
      ]
    },
    {
      "cell_type": "code",
      "source": [
        "a = float(input('請輸入第一個數字：'))\n",
        "b = str(input('請輸入運算符號：'))\n",
        "c = float(input('請輸入第二個數字：'))\n",
        "if b == '+' :\n",
        "  d = a + c\n",
        "  print(d)\n",
        "if b == '-' :\n",
        "  d = a - c\n",
        "  print(d)\n",
        "if b == '*' :\n",
        "  d = a * c\n",
        "  print(d)\n",
        "if b == '/' :\n",
        "  d = a / c\n",
        "  print(d)\n",
        "\n",
        "\n"
      ],
      "metadata": {
        "colab": {
          "base_uri": "https://localhost:8080/"
        },
        "id": "O6Xwe_8g3jdW",
        "outputId": "fd5a70f0-442f-4578-b940-b1302b73ea4b"
      },
      "execution_count": 26,
      "outputs": [
        {
          "output_type": "stream",
          "name": "stdout",
          "text": [
            "請輸入第一個數字：3\n",
            "請輸入運算符號：*\n",
            "請輸入第二個數字：2\n",
            "6.0\n"
          ]
        }
      ]
    }
  ]
}