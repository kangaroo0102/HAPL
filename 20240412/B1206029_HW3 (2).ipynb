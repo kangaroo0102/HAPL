{
  "nbformat": 4,
  "nbformat_minor": 0,
  "metadata": {
    "colab": {
      "provenance": []
    },
    "kernelspec": {
      "name": "python3",
      "display_name": "Python 3"
    },
    "language_info": {
      "name": "python"
    }
  },
  "cells": [
    {
      "cell_type": "code",
      "execution_count": null,
      "metadata": {
        "colab": {
          "base_uri": "https://localhost:8080/"
        },
        "id": "R-WVhJO5DfsI",
        "outputId": "a81146f0-4b97-4948-cb06-3f10b3cce806"
      },
      "outputs": [
        {
          "output_type": "stream",
          "name": "stdout",
          "text": [
            "輸入年分566\n",
            "是平年\n"
          ]
        }
      ],
      "source": [
        "a = int(input('輸入年分'))\n",
        "if a<1582:\n",
        "  if a%4 == 0:\n",
        "    print('是閏年')\n",
        "  else:\n",
        "    print('是平年')\n",
        "else:\n",
        "  if a%4 == 0:\n",
        "    if a%100 == 0:\n",
        "      if a%400 == 0:\n",
        "        print('是閏年')\n",
        "      else:\n",
        "        print('是平年')\n",
        "    else:\n",
        "      print('是閏年')\n",
        "  else:\n",
        "    print('是平年')\n",
        "\n",
        "\n",
        "\n"
      ]
    },
    {
      "cell_type": "code",
      "source": [
        "a = int(input('輸入年分'))\n",
        "if a<1582:\n",
        "  if a%4 == 0:\n",
        "    print('是閏年')\n",
        "  else:\n",
        "    print('是平年')\n",
        "else:\n",
        "  if a%4 == 0:\n",
        "    if a%100 == 0:\n",
        "      if a%400 == 0:\n",
        "        print('是閏年')\n",
        "      else:\n",
        "        print('是平年')\n",
        "    else:\n",
        "      print('是閏年')\n",
        "  else:\n",
        "    print('是平年')\n"
      ],
      "metadata": {
        "colab": {
          "base_uri": "https://localhost:8080/"
        },
        "id": "XG5Nx8hNtiaW",
        "outputId": "e00aedcc-6640-46c9-ec7f-904b2cfaf3f0"
      },
      "execution_count": 1,
      "outputs": [
        {
          "output_type": "stream",
          "name": "stdout",
          "text": [
            "輸入年分2024\n",
            "是閏年\n"
          ]
        }
      ]
    }
  ]
}